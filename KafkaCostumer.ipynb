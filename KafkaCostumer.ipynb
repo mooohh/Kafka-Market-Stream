{
  "nbformat": 4,
  "nbformat_minor": 0,
  "metadata": {
    "colab": {
      "provenance": []
    },
    "kernelspec": {
      "name": "python3",
      "display_name": "Python 3"
    },
    "language_info": {
      "name": "python"
    }
  },
  "cells": [
    {
      "cell_type": "code",
      "source": [
        "pip install kafka-python"
      ],
      "metadata": {
        "colab": {
          "base_uri": "https://localhost:8080/"
        },
        "id": "Iv4v2tbFCWlo",
        "outputId": "143d25da-260e-4549-9102-21e300d65341"
      },
      "execution_count": 1,
      "outputs": [
        {
          "output_type": "stream",
          "name": "stdout",
          "text": [
            "Collecting kafka-python\n",
            "  Downloading kafka_python-2.2.7-py2.py3-none-any.whl.metadata (10.0 kB)\n",
            "Downloading kafka_python-2.2.7-py2.py3-none-any.whl (308 kB)\n",
            "\u001b[2K   \u001b[90m━━━━━━━━━━━━━━━━━━━━━━━━━━━━━━━━━━━━━━━━\u001b[0m \u001b[32m308.5/308.5 kB\u001b[0m \u001b[31m5.1 MB/s\u001b[0m eta \u001b[36m0:00:00\u001b[0m\n",
            "\u001b[?25hInstalling collected packages: kafka-python\n",
            "Successfully installed kafka-python-2.2.7\n"
          ]
        }
      ]
    },
    {
      "cell_type": "code",
      "source": [
        "pip install s3fs"
      ],
      "metadata": {
        "colab": {
          "base_uri": "https://localhost:8080/"
        },
        "id": "ans4DJLuNhzp",
        "outputId": "f994ed47-c545-467f-de56-14461a459dab"
      },
      "execution_count": 2,
      "outputs": [
        {
          "output_type": "stream",
          "name": "stdout",
          "text": [
            "Collecting s3fs\n",
            "  Downloading s3fs-2025.3.2-py3-none-any.whl.metadata (1.9 kB)\n",
            "Collecting aiobotocore<3.0.0,>=2.5.4 (from s3fs)\n",
            "  Downloading aiobotocore-2.22.0-py3-none-any.whl.metadata (24 kB)\n",
            "Requirement already satisfied: fsspec==2025.3.2.* in /usr/local/lib/python3.11/dist-packages (from s3fs) (2025.3.2)\n",
            "Requirement already satisfied: aiohttp!=4.0.0a0,!=4.0.0a1 in /usr/local/lib/python3.11/dist-packages (from s3fs) (3.11.15)\n",
            "Collecting aioitertools<1.0.0,>=0.5.1 (from aiobotocore<3.0.0,>=2.5.4->s3fs)\n",
            "  Downloading aioitertools-0.12.0-py3-none-any.whl.metadata (3.8 kB)\n",
            "Collecting botocore<1.37.4,>=1.37.2 (from aiobotocore<3.0.0,>=2.5.4->s3fs)\n",
            "  Downloading botocore-1.37.3-py3-none-any.whl.metadata (5.7 kB)\n",
            "Requirement already satisfied: python-dateutil<3.0.0,>=2.1 in /usr/local/lib/python3.11/dist-packages (from aiobotocore<3.0.0,>=2.5.4->s3fs) (2.9.0.post0)\n",
            "Collecting jmespath<2.0.0,>=0.7.1 (from aiobotocore<3.0.0,>=2.5.4->s3fs)\n",
            "  Downloading jmespath-1.0.1-py3-none-any.whl.metadata (7.6 kB)\n",
            "Requirement already satisfied: multidict<7.0.0,>=6.0.0 in /usr/local/lib/python3.11/dist-packages (from aiobotocore<3.0.0,>=2.5.4->s3fs) (6.4.3)\n",
            "Requirement already satisfied: wrapt<2.0.0,>=1.10.10 in /usr/local/lib/python3.11/dist-packages (from aiobotocore<3.0.0,>=2.5.4->s3fs) (1.17.2)\n",
            "Requirement already satisfied: aiohappyeyeballs>=2.3.0 in /usr/local/lib/python3.11/dist-packages (from aiohttp!=4.0.0a0,!=4.0.0a1->s3fs) (2.6.1)\n",
            "Requirement already satisfied: aiosignal>=1.1.2 in /usr/local/lib/python3.11/dist-packages (from aiohttp!=4.0.0a0,!=4.0.0a1->s3fs) (1.3.2)\n",
            "Requirement already satisfied: attrs>=17.3.0 in /usr/local/lib/python3.11/dist-packages (from aiohttp!=4.0.0a0,!=4.0.0a1->s3fs) (25.3.0)\n",
            "Requirement already satisfied: frozenlist>=1.1.1 in /usr/local/lib/python3.11/dist-packages (from aiohttp!=4.0.0a0,!=4.0.0a1->s3fs) (1.6.0)\n",
            "Requirement already satisfied: propcache>=0.2.0 in /usr/local/lib/python3.11/dist-packages (from aiohttp!=4.0.0a0,!=4.0.0a1->s3fs) (0.3.1)\n",
            "Requirement already satisfied: yarl<2.0,>=1.17.0 in /usr/local/lib/python3.11/dist-packages (from aiohttp!=4.0.0a0,!=4.0.0a1->s3fs) (1.20.0)\n",
            "Requirement already satisfied: urllib3!=2.2.0,<3,>=1.25.4 in /usr/local/lib/python3.11/dist-packages (from botocore<1.37.4,>=1.37.2->aiobotocore<3.0.0,>=2.5.4->s3fs) (2.4.0)\n",
            "Requirement already satisfied: six>=1.5 in /usr/local/lib/python3.11/dist-packages (from python-dateutil<3.0.0,>=2.1->aiobotocore<3.0.0,>=2.5.4->s3fs) (1.17.0)\n",
            "Requirement already satisfied: idna>=2.0 in /usr/local/lib/python3.11/dist-packages (from yarl<2.0,>=1.17.0->aiohttp!=4.0.0a0,!=4.0.0a1->s3fs) (3.10)\n",
            "Downloading s3fs-2025.3.2-py3-none-any.whl (30 kB)\n",
            "Downloading aiobotocore-2.22.0-py3-none-any.whl (78 kB)\n",
            "\u001b[2K   \u001b[90m━━━━━━━━━━━━━━━━━━━━━━━━━━━━━━━━━━━━━━━━\u001b[0m \u001b[32m78.9/78.9 kB\u001b[0m \u001b[31m1.8 MB/s\u001b[0m eta \u001b[36m0:00:00\u001b[0m\n",
            "\u001b[?25hDownloading aioitertools-0.12.0-py3-none-any.whl (24 kB)\n",
            "Downloading botocore-1.37.3-py3-none-any.whl (13.3 MB)\n",
            "\u001b[2K   \u001b[90m━━━━━━━━━━━━━━━━━━━━━━━━━━━━━━━━━━━━━━━━\u001b[0m \u001b[32m13.3/13.3 MB\u001b[0m \u001b[31m23.2 MB/s\u001b[0m eta \u001b[36m0:00:00\u001b[0m\n",
            "\u001b[?25hDownloading jmespath-1.0.1-py3-none-any.whl (20 kB)\n",
            "Installing collected packages: jmespath, aioitertools, botocore, aiobotocore, s3fs\n",
            "Successfully installed aiobotocore-2.22.0 aioitertools-0.12.0 botocore-1.37.3 jmespath-1.0.1 s3fs-2025.3.2\n"
          ]
        }
      ]
    },
    {
      "cell_type": "code",
      "execution_count": 3,
      "metadata": {
        "id": "TlfHtim8CPs2"
      },
      "outputs": [],
      "source": [
        "import pandas as pd\n",
        "from kafka import KafkaConsumer, KafkaProducer\n",
        "from time import sleep\n",
        "import json\n",
        "from s3fs import S3FileSystem"
      ]
    },
    {
      "cell_type": "code",
      "source": [
        "# Creation de Costumer\n",
        "consumer = KafkaConsumer(\n",
        "                          'demo_01',\n",
        "                          bootstrap_servers = ['**.**.**.**:9092'],\n",
        "                          value_deserializer = lambda x:\n",
        "                          json.loads(x.decode('utf-8'))\n",
        ")"
      ],
      "metadata": {
        "colab": {
          "base_uri": "https://localhost:8080/"
        },
        "id": "dN0d8oJfCaMe",
        "outputId": "20f23e03-9535-4cde-fa39-c75d5e1a06b2"
      },
      "execution_count": 4,
      "outputs": [
        {
          "output_type": "stream",
          "name": "stderr",
          "text": [
            "WARNING:kafka.coordinator.consumer:group_id is None: disabling auto-commit.\n"
          ]
        }
      ]
    },
    {
      "cell_type": "code",
      "source": [
        "# for c in consumer:\n",
        "#   print(c.value)"
      ],
      "metadata": {
        "collapsed": true,
        "id": "CFtC2ckWCiPO"
      },
      "execution_count": 5,
      "outputs": []
    },
    {
      "cell_type": "code",
      "source": [
        "# créer une connexion avec AWS S3\n",
        "s3 = S3FileSystem(key=\"****************\", secret=\"**************\")"
      ],
      "metadata": {
        "id": "o_SszAzoNoq2"
      },
      "execution_count": 6,
      "outputs": []
    },
    {
      "cell_type": "code",
      "source": [
        "# écouter le flux Kafka(Producer), et pour chaque message reçu, il enregistre les données dans un fichier JSON sur S3.\n",
        "for count, i in enumerate(consumer):\n",
        "  with s3.open(\"s3://kafka-stock-market-prject/stock_market_{}.json\".format(count), 'w') as file:\n",
        "    json.dump(i.value, file)\n"
      ],
      "metadata": {
        "id": "xdDqbB3UNuM6",
        "colab": {
          "base_uri": "https://localhost:8080/"
        },
        "outputId": "495ab0e5-22f1-4979-9052-da197f9e3791"
      },
      "execution_count": null,
      "outputs": [
        {
          "output_type": "stream",
          "name": "stderr",
          "text": [
            "ERROR:kafka.conn:<BrokerConnection client_id=kafka-python-2.2.7, node_id=0 host=51.20.122.207:9092 <connected> [IPv4 ('51.20.122.207', 9092)]>: socket disconnected\n",
            "ERROR:kafka.conn:<BrokerConnection client_id=kafka-python-2.2.7, node_id=0 host=51.20.122.207:9092 <connected> [IPv4 ('51.20.122.207', 9092)]>: Closing connection. KafkaConnectionError: socket disconnected\n",
            "WARNING:kafka.client:Node 0 connection failed -- refreshing metadata\n",
            "WARNING:kafka.client:<BrokerConnection client_id=kafka-python-2.2.7, node_id=0 host=51.20.122.207:9092 <connected> [IPv4 ('51.20.122.207', 9092)]> timed out after 305000.0 ms. Closing connection.\n",
            "ERROR:kafka.conn:<BrokerConnection client_id=kafka-python-2.2.7, node_id=0 host=51.20.122.207:9092 <connected> [IPv4 ('51.20.122.207', 9092)]>: Closing connection. [Error 7] RequestTimedOutError: Request timed out after 305000.0 ms\n",
            "WARNING:kafka.client:Node 0 connection failed -- refreshing metadata\n",
            "WARNING:kafka.client:<BrokerConnection client_id=kafka-python-2.2.7, node_id=0 host=51.20.122.207:9092 <connected> [IPv4 ('51.20.122.207', 9092)]> timed out after 305000.0 ms. Closing connection.\n",
            "ERROR:kafka.conn:<BrokerConnection client_id=kafka-python-2.2.7, node_id=0 host=51.20.122.207:9092 <connected> [IPv4 ('51.20.122.207', 9092)]>: Closing connection. [Error 7] RequestTimedOutError: Request timed out after 305000.0 ms\n",
            "WARNING:kafka.client:Node 0 connection failed -- refreshing metadata\n",
            "WARNING:kafka.client:<BrokerConnection client_id=kafka-python-2.2.7, node_id=0 host=51.20.122.207:9092 <connected> [IPv4 ('51.20.122.207', 9092)]> timed out after 305000.0 ms. Closing connection.\n",
            "ERROR:kafka.conn:<BrokerConnection client_id=kafka-python-2.2.7, node_id=0 host=51.20.122.207:9092 <connected> [IPv4 ('51.20.122.207', 9092)]>: Closing connection. [Error 7] RequestTimedOutError: Request timed out after 305000.0 ms\n",
            "WARNING:kafka.client:Node 0 connection failed -- refreshing metadata\n",
            "ERROR:kafka.conn:<BrokerConnection client_id=kafka-python-2.2.7, node_id=0 host=51.20.122.207:9092 <connecting> [IPv4 ('51.20.122.207', 9092)]>: Connect attempt returned error 110. Disconnecting.\n",
            "ERROR:kafka.conn:<BrokerConnection client_id=kafka-python-2.2.7, node_id=0 host=51.20.122.207:9092 <connecting> [IPv4 ('51.20.122.207', 9092)]>: Closing connection. KafkaConnectionError: 110 ETIMEDOUT\n",
            "WARNING:kafka.client:Node 0 connection failed -- refreshing metadata\n",
            "WARNING:kafka.client:<BrokerConnection client_id=kafka-python-2.2.7, node_id=0 host=51.20.122.207:9092 <connected> [IPv4 ('51.20.122.207', 9092)]> timed out after 305000.0 ms. Closing connection.\n",
            "ERROR:kafka.conn:<BrokerConnection client_id=kafka-python-2.2.7, node_id=0 host=51.20.122.207:9092 <connected> [IPv4 ('51.20.122.207', 9092)]>: Closing connection. [Error 7] RequestTimedOutError: Request timed out after 305000.0 ms\n",
            "WARNING:kafka.client:Node 0 connection failed -- refreshing metadata\n",
            "ERROR:kafka.conn:<BrokerConnection client_id=kafka-python-2.2.7, node_id=0 host=51.20.122.207:9092 <connecting> [IPv4 ('51.20.122.207', 9092)]>: Connect attempt returned error 110. Disconnecting.\n",
            "ERROR:kafka.conn:<BrokerConnection client_id=kafka-python-2.2.7, node_id=0 host=51.20.122.207:9092 <connecting> [IPv4 ('51.20.122.207', 9092)]>: Closing connection. KafkaConnectionError: 110 ETIMEDOUT\n",
            "WARNING:kafka.client:Node 0 connection failed -- refreshing metadata\n",
            "WARNING:kafka.client:<BrokerConnection client_id=kafka-python-2.2.7, node_id=0 host=51.20.122.207:9092 <connected> [IPv4 ('51.20.122.207', 9092)]> timed out after 305000.0 ms. Closing connection.\n",
            "ERROR:kafka.conn:<BrokerConnection client_id=kafka-python-2.2.7, node_id=0 host=51.20.122.207:9092 <connected> [IPv4 ('51.20.122.207', 9092)]>: Closing connection. [Error 7] RequestTimedOutError: Request timed out after 305000.0 ms\n",
            "WARNING:kafka.client:Node 0 connection failed -- refreshing metadata\n",
            "ERROR:kafka.conn:<BrokerConnection client_id=kafka-python-2.2.7, node_id=0 host=51.20.122.207:9092 <connecting> [IPv4 ('51.20.122.207', 9092)]>: Connect attempt returned error 110. Disconnecting.\n",
            "ERROR:kafka.conn:<BrokerConnection client_id=kafka-python-2.2.7, node_id=0 host=51.20.122.207:9092 <connecting> [IPv4 ('51.20.122.207', 9092)]>: Closing connection. KafkaConnectionError: 110 ETIMEDOUT\n",
            "WARNING:kafka.client:Node 0 connection failed -- refreshing metadata\n",
            "ERROR:kafka.conn:<BrokerConnection client_id=kafka-python-2.2.7, node_id=0 host=51.20.122.207:9092 <connecting> [IPv4 ('51.20.122.207', 9092)]>: Connect attempt returned error 110. Disconnecting.\n",
            "ERROR:kafka.conn:<BrokerConnection client_id=kafka-python-2.2.7, node_id=0 host=51.20.122.207:9092 <connecting> [IPv4 ('51.20.122.207', 9092)]>: Closing connection. KafkaConnectionError: 110 ETIMEDOUT\n",
            "WARNING:kafka.client:Node 0 connection failed -- refreshing metadata\n",
            "WARNING:kafka.client:<BrokerConnection client_id=kafka-python-2.2.7, node_id=0 host=51.20.122.207:9092 <connected> [IPv4 ('51.20.122.207', 9092)]> timed out after 305000.0 ms. Closing connection.\n",
            "ERROR:kafka.conn:<BrokerConnection client_id=kafka-python-2.2.7, node_id=0 host=51.20.122.207:9092 <connected> [IPv4 ('51.20.122.207', 9092)]>: Closing connection. [Error 7] RequestTimedOutError: Request timed out after 305000.0 ms\n",
            "WARNING:kafka.client:Node 0 connection failed -- refreshing metadata\n",
            "WARNING:kafka.client:<BrokerConnection client_id=kafka-python-2.2.7, node_id=0 host=51.20.122.207:9092 <connected> [IPv4 ('51.20.122.207', 9092)]> timed out after 305000.0 ms. Closing connection.\n",
            "ERROR:kafka.conn:<BrokerConnection client_id=kafka-python-2.2.7, node_id=0 host=51.20.122.207:9092 <connected> [IPv4 ('51.20.122.207', 9092)]>: Closing connection. [Error 7] RequestTimedOutError: Request timed out after 305000.0 ms\n",
            "WARNING:kafka.client:Node 0 connection failed -- refreshing metadata\n",
            "ERROR:kafka.conn:<BrokerConnection client_id=kafka-python-2.2.7, node_id=0 host=51.20.122.207:9092 <connecting> [IPv4 ('51.20.122.207', 9092)]>: Connect attempt returned error 110. Disconnecting.\n",
            "ERROR:kafka.conn:<BrokerConnection client_id=kafka-python-2.2.7, node_id=0 host=51.20.122.207:9092 <connecting> [IPv4 ('51.20.122.207', 9092)]>: Closing connection. KafkaConnectionError: 110 ETIMEDOUT\n",
            "WARNING:kafka.client:Node 0 connection failed -- refreshing metadata\n",
            "ERROR:kafka.conn:<BrokerConnection client_id=kafka-python-2.2.7, node_id=0 host=51.20.122.207:9092 <connecting> [IPv4 ('51.20.122.207', 9092)]>: Connect attempt returned error 110. Disconnecting.\n",
            "ERROR:kafka.conn:<BrokerConnection client_id=kafka-python-2.2.7, node_id=0 host=51.20.122.207:9092 <connecting> [IPv4 ('51.20.122.207', 9092)]>: Closing connection. KafkaConnectionError: 110 ETIMEDOUT\n",
            "WARNING:kafka.client:Node 0 connection failed -- refreshing metadata\n",
            "ERROR:kafka.conn:<BrokerConnection client_id=kafka-python-2.2.7, node_id=0 host=51.20.122.207:9092 <connecting> [IPv4 ('51.20.122.207', 9092)]>: Connect attempt returned error 110. Disconnecting.\n",
            "ERROR:kafka.conn:<BrokerConnection client_id=kafka-python-2.2.7, node_id=0 host=51.20.122.207:9092 <connecting> [IPv4 ('51.20.122.207', 9092)]>: Closing connection. KafkaConnectionError: 110 ETIMEDOUT\n",
            "WARNING:kafka.client:Node 0 connection failed -- refreshing metadata\n",
            "ERROR:kafka.conn:<BrokerConnection client_id=kafka-python-2.2.7, node_id=0 host=51.20.122.207:9092 <connecting> [IPv4 ('51.20.122.207', 9092)]>: Connect attempt returned error 110. Disconnecting.\n",
            "ERROR:kafka.conn:<BrokerConnection client_id=kafka-python-2.2.7, node_id=0 host=51.20.122.207:9092 <connecting> [IPv4 ('51.20.122.207', 9092)]>: Closing connection. KafkaConnectionError: 110 ETIMEDOUT\n",
            "WARNING:kafka.client:Node 0 connection failed -- refreshing metadata\n",
            "ERROR:kafka.conn:<BrokerConnection client_id=kafka-python-2.2.7, node_id=0 host=51.20.122.207:9092 <connecting> [IPv4 ('51.20.122.207', 9092)]>: Connect attempt returned error 110. Disconnecting.\n",
            "ERROR:kafka.conn:<BrokerConnection client_id=kafka-python-2.2.7, node_id=0 host=51.20.122.207:9092 <connecting> [IPv4 ('51.20.122.207', 9092)]>: Closing connection. KafkaConnectionError: 110 ETIMEDOUT\n",
            "WARNING:kafka.client:Node 0 connection failed -- refreshing metadata\n",
            "ERROR:kafka.conn:<BrokerConnection client_id=kafka-python-2.2.7, node_id=0 host=51.20.122.207:9092 <connecting> [IPv4 ('51.20.122.207', 9092)]>: Connect attempt returned error 110. Disconnecting.\n",
            "ERROR:kafka.conn:<BrokerConnection client_id=kafka-python-2.2.7, node_id=0 host=51.20.122.207:9092 <connecting> [IPv4 ('51.20.122.207', 9092)]>: Closing connection. KafkaConnectionError: 110 ETIMEDOUT\n",
            "WARNING:kafka.client:Node 0 connection failed -- refreshing metadata\n",
            "ERROR:kafka.conn:<BrokerConnection client_id=kafka-python-2.2.7, node_id=0 host=51.20.122.207:9092 <connecting> [IPv4 ('51.20.122.207', 9092)]>: Connect attempt returned error 110. Disconnecting.\n",
            "ERROR:kafka.conn:<BrokerConnection client_id=kafka-python-2.2.7, node_id=0 host=51.20.122.207:9092 <connecting> [IPv4 ('51.20.122.207', 9092)]>: Closing connection. KafkaConnectionError: 110 ETIMEDOUT\n",
            "WARNING:kafka.client:Node 0 connection failed -- refreshing metadata\n",
            "ERROR:kafka.conn:<BrokerConnection client_id=kafka-python-2.2.7, node_id=0 host=51.20.122.207:9092 <connecting> [IPv4 ('51.20.122.207', 9092)]>: Connect attempt returned error 110. Disconnecting.\n",
            "ERROR:kafka.conn:<BrokerConnection client_id=kafka-python-2.2.7, node_id=0 host=51.20.122.207:9092 <connecting> [IPv4 ('51.20.122.207', 9092)]>: Closing connection. KafkaConnectionError: 110 ETIMEDOUT\n",
            "WARNING:kafka.client:Node 0 connection failed -- refreshing metadata\n",
            "ERROR:kafka.conn:<BrokerConnection client_id=kafka-python-2.2.7, node_id=0 host=51.20.122.207:9092 <connecting> [IPv4 ('51.20.122.207', 9092)]>: Connect attempt returned error 110. Disconnecting.\n",
            "ERROR:kafka.conn:<BrokerConnection client_id=kafka-python-2.2.7, node_id=0 host=51.20.122.207:9092 <connecting> [IPv4 ('51.20.122.207', 9092)]>: Closing connection. KafkaConnectionError: 110 ETIMEDOUT\n",
            "WARNING:kafka.client:Node 0 connection failed -- refreshing metadata\n",
            "ERROR:kafka.conn:<BrokerConnection client_id=kafka-python-2.2.7, node_id=0 host=51.20.122.207:9092 <connecting> [IPv4 ('51.20.122.207', 9092)]>: Connect attempt returned error 110. Disconnecting.\n",
            "ERROR:kafka.conn:<BrokerConnection client_id=kafka-python-2.2.7, node_id=0 host=51.20.122.207:9092 <connecting> [IPv4 ('51.20.122.207', 9092)]>: Closing connection. KafkaConnectionError: 110 ETIMEDOUT\n",
            "WARNING:kafka.client:Node 0 connection failed -- refreshing metadata\n",
            "ERROR:kafka.conn:<BrokerConnection client_id=kafka-python-2.2.7, node_id=0 host=51.20.122.207:9092 <connecting> [IPv4 ('51.20.122.207', 9092)]>: Connect attempt returned error 110. Disconnecting.\n",
            "ERROR:kafka.conn:<BrokerConnection client_id=kafka-python-2.2.7, node_id=0 host=51.20.122.207:9092 <connecting> [IPv4 ('51.20.122.207', 9092)]>: Closing connection. KafkaConnectionError: 110 ETIMEDOUT\n",
            "WARNING:kafka.client:Node 0 connection failed -- refreshing metadata\n",
            "ERROR:kafka.conn:<BrokerConnection client_id=kafka-python-2.2.7, node_id=0 host=51.20.122.207:9092 <connecting> [IPv4 ('51.20.122.207', 9092)]>: Connect attempt returned error 110. Disconnecting.\n",
            "ERROR:kafka.conn:<BrokerConnection client_id=kafka-python-2.2.7, node_id=0 host=51.20.122.207:9092 <connecting> [IPv4 ('51.20.122.207', 9092)]>: Closing connection. KafkaConnectionError: 110 ETIMEDOUT\n",
            "WARNING:kafka.client:Node 0 connection failed -- refreshing metadata\n",
            "ERROR:kafka.conn:<BrokerConnection client_id=kafka-python-2.2.7, node_id=0 host=51.20.122.207:9092 <connecting> [IPv4 ('51.20.122.207', 9092)]>: Connect attempt returned error 110. Disconnecting.\n",
            "ERROR:kafka.conn:<BrokerConnection client_id=kafka-python-2.2.7, node_id=0 host=51.20.122.207:9092 <connecting> [IPv4 ('51.20.122.207', 9092)]>: Closing connection. KafkaConnectionError: 110 ETIMEDOUT\n",
            "WARNING:kafka.client:Node 0 connection failed -- refreshing metadata\n",
            "ERROR:kafka.conn:<BrokerConnection client_id=kafka-python-2.2.7, node_id=0 host=51.20.122.207:9092 <connecting> [IPv4 ('51.20.122.207', 9092)]>: Connect attempt returned error 110. Disconnecting.\n",
            "ERROR:kafka.conn:<BrokerConnection client_id=kafka-python-2.2.7, node_id=0 host=51.20.122.207:9092 <connecting> [IPv4 ('51.20.122.207', 9092)]>: Closing connection. KafkaConnectionError: 110 ETIMEDOUT\n",
            "WARNING:kafka.client:Node 0 connection failed -- refreshing metadata\n",
            "ERROR:kafka.conn:<BrokerConnection client_id=kafka-python-2.2.7, node_id=0 host=51.20.122.207:9092 <connecting> [IPv4 ('51.20.122.207', 9092)]>: Connect attempt returned error 110. Disconnecting.\n",
            "ERROR:kafka.conn:<BrokerConnection client_id=kafka-python-2.2.7, node_id=0 host=51.20.122.207:9092 <connecting> [IPv4 ('51.20.122.207', 9092)]>: Closing connection. KafkaConnectionError: 110 ETIMEDOUT\n",
            "WARNING:kafka.client:Node 0 connection failed -- refreshing metadata\n",
            "ERROR:kafka.conn:<BrokerConnection client_id=kafka-python-2.2.7, node_id=0 host=51.20.122.207:9092 <connecting> [IPv4 ('51.20.122.207', 9092)]>: Connect attempt returned error 110. Disconnecting.\n",
            "ERROR:kafka.conn:<BrokerConnection client_id=kafka-python-2.2.7, node_id=0 host=51.20.122.207:9092 <connecting> [IPv4 ('51.20.122.207', 9092)]>: Closing connection. KafkaConnectionError: 110 ETIMEDOUT\n",
            "WARNING:kafka.client:Node 0 connection failed -- refreshing metadata\n"
          ]
        }
      ]
    }
  ]
}